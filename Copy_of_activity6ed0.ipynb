{
  "nbformat": 4,
  "nbformat_minor": 0,
  "metadata": {
    "colab": {
      "provenance": [],
      "include_colab_link": true
    },
    "kernelspec": {
      "name": "python3",
      "display_name": "Python 3"
    },
    "language_info": {
      "name": "python"
    }
  },
  "cells": [
    {
      "cell_type": "markdown",
      "metadata": {
        "id": "view-in-github",
        "colab_type": "text"
      },
      "source": [
        "<a href=\"https://colab.research.google.com/github/TITlidatta/DataAnalysis_part1/blob/main/Copy_of_activity6ed0.ipynb\" target=\"_parent\"><img src=\"https://colab.research.google.com/assets/colab-badge.svg\" alt=\"Open In Colab\"/></a>"
      ]
    },
    {
      "cell_type": "markdown",
      "source": [
        "**ACTIVITY 6**"
      ],
      "metadata": {
        "id": "ON18Cx-ssmeO"
      }
    },
    {
      "cell_type": "markdown",
      "source": [
        "\n",
        "\n",
        "---\n",
        "\n",
        "\n",
        "\n",
        "---\n",
        "\n"
      ],
      "metadata": {
        "id": "5ngRmnCNsxX-"
      }
    },
    {
      "cell_type": "code",
      "source": [
        "import numpy as np\n",
        "import scipy.stats as st\n",
        "import pandas as pd\n",
        "import matplotlib.pyplot as plt\n",
        "x=[7,4,5,6,4,5,1,6,10,4,7,7,6,8,11,5,4,5,8,2,6,4,9\n",
        "  ,5,6,3,7,8,4,5,9,6,7,3,12,3,5,6,10,7,6,4,6,1,7,9,\n",
        "  11,2,4,6,6,3,7,5,9,8,6,10,4,3,5,9,6,3,8,7,4,4,5,\n",
        "  5,6,2,7,8,10,7,9,6,4,5,3,6,1,6,7,1,3,6,8,5,7,11,3,6,\n",
        "  9,5,7,10,4,4,5,6,8,4,3,6,8,5,9,7,4,5,8,7,2,8,7,12,\n",
        "  6,5,9,6,3,5,10,4,7,6,9,7,4,2,7,8,4,6,5,5,7,7,6,\n",
        "  11,8,7,5,9,4,8,6,5,3,10,6,4,6,1,5,7,3,4,6,5,2,7,8,\n",
        "  5,9,6,4,8,7,5,4,5,3,3,10,6,4,11,5,5,9,3,6,3,8,5\n",
        "  ,9,4,6,5,8,3,2,6,7,9,4,9,5,2,6,8,1,4,3,5,10,\n",
        "  4,6,3,4,5,7,9,8,8,3,5,11,6,2,3,7,3,4,8,5,6,\n",
        "  8,9,7,14,13,12,5,10,4,7,7,8,4,2,5,7,2,4,6,6,8,5]\n",
        "plt.hist(x,bins=100,density=True)\n",
        "plt.show()"
      ],
      "metadata": {
        "colab": {
          "base_uri": "https://localhost:8080/",
          "height": 430
        },
        "id": "hv62A64SouBv",
        "outputId": "52509850-87e5-46c5-f53c-ad672eeac5b5"
      },
      "execution_count": null,
      "outputs": [
        {
          "output_type": "display_data",
          "data": {
            "text/plain": [
              "<Figure size 640x480 with 1 Axes>"
            ],
            "image/png": "[encoded data removed]"
          },
          "metadata": {}
        }
      ]
    },
    {
      "cell_type": "markdown",
      "source": [
        "**THE DATA SEEMS TO FOLLOW POISON DISTRIBUTION**\n",
        "\n",
        "Let lambda be the mean number of orders per day          \n",
        "P(X=k)   \n",
        "   = ((e^ - lambda)*(lambda^k ))/k!\n",
        "\n",
        "Using the Poisson Distribution  X={0, 1,2, ….}\n",
        "\n"
      ],
      "metadata": {
        "id": "vxlIEskJ8lNU"
      }
    },
    {
      "cell_type": "markdown",
      "source": [
        "-------------------------------------------------------------------------------------------------------------------------------------------------------"
      ],
      "metadata": {
        "id": "1QeAuBULGkwW"
      }
    },
    {
      "cell_type": "markdown",
      "source": [
        "-----------------------------------------------------------------------------------------------------------------------------------------------------"
      ],
      "metadata": {
        "id": "LXhOo94jGn5V"
      }
    },
    {
      "cell_type": "markdown",
      "source": [
        "**Using Method Of Moments or MM estimation to determine lambda :**\n",
        "\n",
        "\n",
        "*It can be stated that if m1 is the first moment of this distribution data then *\n",
        "\n",
        "lambda=m1"
      ],
      "metadata": {
        "id": "Xbrni2RgD-Yr"
      }
    },
    {
      "cell_type": "code",
      "source": [
        "m1 = np.average(x)\n",
        "print(\"lambda as m1:\")\n",
        "print(m1)"
      ],
      "metadata": {
        "colab": {
          "base_uri": "https://localhost:8080/"
        },
        "id": "_g1Ak-lkF5DT",
        "outputId": "44efd46f-0274-4f20-a9a7-66f84bd8b8ca"
      },
      "execution_count": null,
      "outputs": [
        {
          "output_type": "stream",
          "name": "stdout",
          "text": [
            "lambda as m1:\n",
            "5.9563492063492065\n"
          ]
        }
      ]
    },
    {
      "cell_type": "markdown",
      "source": [
        "________________________________________________________________________________________________________________________________________________________"
      ],
      "metadata": {
        "id": "umiV7A1UGtfn"
      }
    },
    {
      "cell_type": "markdown",
      "source": [
        "______________________________________________________________________________________________________________________________________________________"
      ],
      "metadata": {
        "id": "L_hbkN1bGwjb"
      }
    },
    {
      "cell_type": "markdown",
      "source": [
        "**Using the ML estimation or MAXIMUM LIKELIHOOD method**\n",
        "\n",
        "Here lambda=meu\n",
        "\n",
        "**LIKELIHOOD**\n",
        "\n",
        "L(µ; y1, . . . , yn)\n",
        "=(e^−nµ)*((µ^(y1+···+yn))/(y1!* · · · yn!))\n",
        "\n",
        "**Taking log:**\n",
        "\n",
        "ln L(µ; y1, . . . , yn) = −nµ + (y1 + · · · + yn)lnµ − ln(y1! · · · yn!)\n",
        "\n",
        "\n",
        "\n",
        "**Differentiating with respect to meu**\n",
        "\n",
        "\n",
        "d(ln L)/dµ\n",
        "= −n +(y1 + · · · + yn)*µ\n",
        "\n",
        "\n",
        "NOW EQUATING IT TO ZERO WE GET\n",
        "\n",
        "meu=(y1 + · · · + yn)/n"
      ],
      "metadata": {
        "id": "nBY3Fny2GXr1"
      }
    },
    {
      "cell_type": "code",
      "source": [
        "n=250 # no of orders\n",
        "m1 = np.average(x) # (y1+Y2+......yn)/n\n",
        "print(\"lambda as calculated by ML:\")\n",
        "print(m1)"
      ],
      "metadata": {
        "colab": {
          "base_uri": "https://localhost:8080/"
        },
        "id": "WwZkOgh4MTr7",
        "outputId": "e678306f-7b6f-4f9d-9fd9-1bb95d5c6ea5"
      },
      "execution_count": null,
      "outputs": [
        {
          "output_type": "stream",
          "name": "stdout",
          "text": [
            "lambda as calculated by ML:\n",
            "5.9563492063492065\n"
          ]
        }
      ]
    },
    {
      "cell_type": "markdown",
      "source": [
        "____________________________________________________________________________________________________________________________________________________________________________________________________________________________________________________________________________________________________________"
      ],
      "metadata": {
        "id": "2hiMhn4TNw8a"
      }
    },
    {
      "cell_type": "markdown",
      "source": [
        "_______________________________________________________________________________________________________________________________________________________"
      ],
      "metadata": {
        "id": "KqpYe2cbN2bd"
      }
    },
    {
      "cell_type": "markdown",
      "source": [
        "*******CHECKING FIT OF MM and  ML with HISTOGRAM*******"
      ],
      "metadata": {
        "id": "_4ekyqp-Np8u"
      }
    },
    {
      "cell_type": "code",
      "source": [
        "\n",
        "fig,ax = plt.subplots(1,1)\n",
        "ax.hist(x,density=True,bins=100)\n",
        "xx = np.arange(1,14)\n",
        "ax.plot(xx, st.poisson.pmf(xx, mu=5.956349206349),lw='4',label='gamma fit MM')\n",
        "ax.plot(xx, st.poisson.pmf(xx, mu=5.956349206349),lw='1',label='gamma fit ML')\n",
        "ax.legend(loc='best')\n",
        "plt.show()"
      ],
      "metadata": {
        "colab": {
          "base_uri": "https://localhost:8080/",
          "height": 430
        },
        "id": "zTzvZMl_Nphk",
        "outputId": "ae194071-e1b8-47d0-c71f-c5c40cbbe9f6"
      },
      "execution_count": null,
      "outputs": [
        {
          "output_type": "display_data",
          "data": {
            "text/plain": [
              "<Figure size 640x480 with 1 Axes>"
            ],
            "image/png": "[encoded data removed]"
          },
          "metadata": {}
        }
      ]
    },
    {
      "cell_type": "markdown",
      "source": [
        "**Therfore both the MM and ML esimators fit the distribution perfectly**"
      ],
      "metadata": {
        "id": "4SS5MdxVsDPu"
      }
    },
    {
      "cell_type": "markdown",
      "source": [
        "\n",
        "\n",
        "---\n",
        "\n",
        "\n",
        "\n",
        "---\n",
        "\n"
      ],
      "metadata": {
        "id": "sH7dt1eYtjDx"
      }
    },
    {
      "cell_type": "markdown",
      "source": [
        "**BOOTSTRAP**\n",
        "\n"
      ],
      "metadata": {
        "id": "4Hf6cZbUtk2e"
      }
    },
    {
      "cell_type": "markdown",
      "source": [
        "FOR MM:\n"
      ],
      "metadata": {
        "id": "6oqQhIU2t6Dt"
      }
    },
    {
      "cell_type": "code",
      "source": [
        "N = 1000\n",
        "n = 250\n",
        "lambda_MM=5.956349206349\n",
        "lambda_hat = np.zeros(N)\n",
        "for i in np.arange(N):\n",
        "  xi = st.poisson.rvs(mu=5.956349206349,size=n)\n",
        "  m1i = np.average(xi)\n",
        "  lambda_hat[i] = m1i\n",
        "print(\"For MM variance of bootstrap\\n\")\n",
        "print(np.sqrt(np.var(lambda_hat)))"
      ],
      "metadata": {
        "colab": {
          "base_uri": "https://localhost:8080/"
        },
        "id": "93pFE3hguInu",
        "outputId": "1e0045c5-a69d-4814-d34d-48bb38b8fb43"
      },
      "execution_count": null,
      "outputs": [
        {
          "output_type": "stream",
          "name": "stdout",
          "text": [
            "For MM variance of bootstrap\n",
            "\n",
            "0.1575010692535133\n"
          ]
        }
      ]
    },
    {
      "cell_type": "markdown",
      "source": [
        "**FOR ML:**"
      ],
      "metadata": {
        "id": "laBf9M3FyUM3"
      }
    },
    {
      "cell_type": "code",
      "source": [
        "N = 1000\n",
        "n = 250\n",
        "lambda_MM=5.956349206349\n",
        "lambda_hat = np.zeros(N)\n",
        "for i in np.arange(N):\n",
        "  xi = st.poisson.rvs(mu=5.956349206349,size=n)\n",
        "  m1i = np.average(xi)\n",
        "  lambda_hat[i] = m1i\n",
        "print(\"For ML variance of bootstrap\\n\")\n",
        "print(np.sqrt(np.var(lambda_hat)))"
      ],
      "metadata": {
        "colab": {
          "base_uri": "https://localhost:8080/"
        },
        "id": "UBggzawFyX6H",
        "outputId": "ab268223-8906-4fd3-c629-376b020756b3"
      },
      "execution_count": null,
      "outputs": [
        {
          "output_type": "stream",
          "name": "stdout",
          "text": [
            "For ML variance of bootstrap\n",
            "\n",
            "0.15935897088021117\n"
          ]
        }
      ]
    },
    {
      "cell_type": "markdown",
      "source": [
        "\n",
        "\n",
        "---\n",
        "\n"
      ],
      "metadata": {
        "id": "H6jhGLHkzS67"
      }
    },
    {
      "cell_type": "markdown",
      "source": [
        "**Confidence Intervals:**"
      ],
      "metadata": {
        "id": "JISeLbaAud_p"
      }
    }
  ]
}